{
 "cells": [
  {
   "cell_type": "code",
   "execution_count": 2,
   "id": "23892161-8b32-45d0-be20-ecbe451b6c6d",
   "metadata": {},
   "source": [
    "import pandas as pd\n",
    "import numpy as np\n",
    "\n",
    "# Load the dataset\n",
    "file_path = \"Task_3_and_4_Loan_Data.csv\"\n",
    "data = pd.read_csv(file_path)\n",
    "\n",
    "# Define bucket boundaries for the two ranges: 0-600 and 600-850\n",
    "bucket_boundaries_1 = np.linspace(0, 600, 6)\n",
    "bucket_boundaries_2 = np.linspace(600, 850, 6)\n",
    "\n",
    "# Function to assign each FICO score to a bucket based on the new boundaries\n",
    "def assign_to_new_bucket(fico_score):\n",
    "    if fico_score <= 600:\n",
    "        return assign_to_bucket(fico_score, bucket_boundaries_1)\n",
    "    else:\n",
    "        return assign_to_bucket(fico_score, bucket_boundaries_2) + len(bucket_boundaries_1) - 1\n",
    "\n",
    "# Helper function to assign bucket based on boundaries\n",
    "def assign_to_bucket(fico_score, boundaries):\n",
    "    for i in range(len(boundaries) - 1):\n",
    "        if boundaries[i] <= fico_score < boundaries[i + 1]:\n",
    "            return i\n",
    "    return len(boundaries) - 2  # Assign to the last bucket if it doesn't fall in any\n",
    "\n",
    "# Assign each record to a new bucket\n",
    "data['new_bucket'] = data['fico_score'].apply(assign_to_new_bucket)\n",
    "\n",
    "# Calculate the number of records and defaults in each new bucket\n",
    "new_bucket_stats = data.groupby('new_bucket').agg(\n",
    "    total_records=('default', 'size'),\n",
    "    total_defaults=('default', 'sum')\n",
    ")\n",
    "\n",
    "# Calculate the probability of default for each new bucket\n",
    "new_bucket_stats['probability_of_default'] = new_bucket_stats['total_defaults'] / new_bucket_stats['total_records']\n",
    "\n",
    "# Calculate the log-likelihood for the new bucket setup\n",
    "new_bucket_stats['log_likelihood'] = new_bucket_stats.apply(\n",
    "    lambda row: row['total_defaults'] * np.log(row['probability_of_default']) + \n",
    "                (row['total_records'] - row['total_defaults']) * np.log(1 - row['probability_of_default']),\n",
    "    axis=1\n",
    ")\n",
    "\n",
    "# Calculate the total log-likelihood\n",
    "new_total_log_likelihood = new_bucket_stats['log_likelihood'].sum()\n",
    "\n",
    "# Output the results\n",
    "print(new_bucket_stats)\n",
    "print(f\"Total Log-Likelihood: {new_total_log_likelihood}\")\n"
   ],
   "outputs": []
  },
  {
   "cell_type": "code",
   "execution_count": null,
   "id": "f5d328e9-5f16-4bbc-a719-a862e79cc1e5",
   "metadata": {},
   "source": [],
   "outputs": []
  }
 ],
 "metadata": {
  "kernelspec": {
   "display_name": "Python 3 (ipykernel)",
   "language": "python",
   "name": "python3"
  },
  "language_info": {
   "codemirror_mode": {
    "name": "ipython",
    "version": 3
   },
   "file_extension": ".py",
   "mimetype": "text/x-python",
   "name": "python",
   "nbconvert_exporter": "python",
   "pygments_lexer": "ipython3",
   "version": "3.11.5"
  }
 },
 "nbformat": 4,
 "nbformat_minor": 5
}
